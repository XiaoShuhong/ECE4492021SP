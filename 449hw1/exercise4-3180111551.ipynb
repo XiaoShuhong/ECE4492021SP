{
 "cells": [
  {
   "cell_type": "markdown",
   "metadata": {
    "collapsed": true
   },
   "source": [
    "# Exercise 4: More on logistic regression and its application\n",
    "## (1) Implement Newton's method for logistic regression"
   ]
  },
  {
   "cell_type": "markdown",
   "metadata": {},
   "source": [
    "These files contain the inputs (x(i) ∈ R^2) and outputs (y(i) ∈ {−1, 1}), respectively for a\n",
    "binary classification problem, with one training example per row. Implement Newton’s\n",
    "method for optimizing J(θ), and apply it to fit a logistic regression model to the data.\n",
    "Initialize Newton’s method with θ = 0 (the vector of all zeros). What are the coefficients θ\n",
    "resulting from your fit? (Remember to include the intercept term.)"
   ]
  },
  {
   "cell_type": "code",
   "execution_count": 1,
   "metadata": {},
   "outputs": [],
   "source": [
    "import numpy as np\n",
    "import pandas as pd\n",
    "import matplotlib.pyplot as plt\n",
    "\n",
    "%matplotlib inline"
   ]
  },
  {
   "cell_type": "code",
   "execution_count": 2,
   "metadata": {},
   "outputs": [],
   "source": [
    "df_X = pd.read_csv('./Data/logistic_x.txt', sep='\\ +', header=None, engine='python')\n",
    "ys = pd.read_csv('./Data/logistic_y.txt', sep='\\ +', header=None, engine='python')\n",
    "ys = ys.astype(int)"
   ]
  },
  {
   "cell_type": "code",
   "execution_count": 3,
   "metadata": {},
   "outputs": [],
   "source": [
    "df_X['label'] = ys[0].values"
   ]
  },
  {
   "cell_type": "markdown",
   "metadata": {},
   "source": [
    "Quick look at the data"
   ]
  },
  {
   "cell_type": "code",
   "execution_count": 4,
   "metadata": {},
   "outputs": [
    {
     "data": {
      "text/plain": [
       "<AxesSubplot:xlabel='0', ylabel='1'>"
      ]
     },
     "execution_count": 4,
     "metadata": {},
     "output_type": "execute_result"
    },
    {
     "data": {
      "image/png": "[encoded data removed]",
      "text/plain": [
       "<Figure size 432x288 with 1 Axes>"
      ]
     },
     "metadata": {
      "needs_background": "light"
     },
     "output_type": "display_data"
    }
   ],
   "source": [
    "ax = plt.axes()\n",
    "\n",
    "df_X.query('label == -1').plot.scatter(x=0, y=1, ax=ax, color='blue')\n",
    "df_X.query('label == 1').plot.scatter(x=0, y=1, ax=ax, color='red')"
   ]
  },
  {
   "cell_type": "markdown",
   "metadata": {},
   "source": [
    "Newton's method addresses getting to $f(\\theta) = 0$, and minimizing $J(\\theta)$ means getting $\\frac{\\partial J}{\\partial \\theta}$ to 0. There after applying Newton's method, extending it to multidimensional setting (Newton-Raphson method), the update rule becomes:\n",
    "\n",
    "\\begin{align*}\n",
    "\\theta &:= \\theta - \\frac{\\partial J(\\theta) / \\partial \\theta} {H} \\\\\n",
    "       &:= \\theta - \\frac{\\nabla_{\\theta} J(\\theta)} {H} \\\\\n",
    "       &:= \\theta - H^{-1} \\nabla_{\\theta} J(\\theta)\n",
    "\\end{align*}\n",
    "\n",
    "Note, the $H$ in the denominator may not be a valid mathematical expression as it is actually an inverse operation."
   ]
  },
  {
   "cell_type": "code",
   "execution_count": 5,
   "metadata": {},
   "outputs": [],
   "source": [
    "Xs = df_X[[0, 1]].values"
   ]
  },
  {
   "cell_type": "code",
   "execution_count": 6,
   "metadata": {},
   "outputs": [
    {
     "data": {
      "text/plain": [
       "(99, 2)"
      ]
     },
     "execution_count": 6,
     "metadata": {},
     "output_type": "execute_result"
    }
   ],
   "source": [
    "Xs.shape"
   ]
  },
  {
   "cell_type": "code",
   "execution_count": 7,
   "metadata": {},
   "outputs": [],
   "source": [
    "# adding a columns of ones for the intercept terms, and also use column vectors\n",
    "Xs = np.hstack([np.ones((Xs.shape[0], 1)), Xs])\n",
    "ys = df_X['label'].values\n",
    "all_thetas = [] # collect for demonstration purpose\n"
   ]
  },
  {
   "cell_type": "markdown",
   "metadata": {},
   "source": [
    "Copied equations from above:\n",
    "\n",
    "$$z^{(k)} = y^{(k)} \\theta^T x^{(k)}$$\n",
    "\n",
    "$$g(z^{(k)}) = \\frac{1}{1 + e^{-z^{(k)}}}$$\n",
    "\n",
    "$$\n",
    "\\frac{\\partial J}{\\partial \\theta_i} \n",
    " = \\frac{1}{m} \\sum_{k=1}^{m} \\big(g(z^{(k)}) - 1\\big) y^{(k)} x_i^{(k)}\n",
    "$$\n",
    "\n",
    "$$\n",
    "H_{ij} = \\frac{1}{m} \\sum_{k=1}^{m} g(z^{(k)})\\big(1 - g(z^{(k)})\\big) x_i^{(k)} x_j^{(k)}\n",
    "$$\n"
   ]
  },
  {
   "cell_type": "code",
   "execution_count": 22,
   "metadata": {},
   "outputs": [],
   "source": [
    "def NewtonMethod(X,Y):\n",
    "# TODO: implement this function. Hint, the start difference should be set as 1e9, and the ending difference threshold should be 1e-6.\n",
    "    diff=1e9\n",
    "    the=np.zeros(X.shape[1])\n",
    "    the_list=[]\n",
    "    m=X.shape[0]\n",
    "    y=Y.reshape(-1,1)\n",
    "    while(diff>1e-6):\n",
    "        z=y*(X@the).reshape(-1,1)\n",
    "        g=1/(1+np.exp(-1*z))\n",
    "        delta_j=1/m*np.sum((g-1)*y*X,axis=0)\n",
    "        H=np.zeros((X.shape[1],X.shape[1]))\n",
    "        for i in range(X.shape[0]):\n",
    "            x_col=X[i].reshape(-1,1)\n",
    "            H=H+1/m*g[i]*(1-g[i])*x_col@x_col.T\n",
    "        diff=np.linalg.norm(np.linalg.inv(H)@delta_j)  \n",
    "        the_list.append(the)\n",
    "        the=the-np.linalg.inv(H)@delta_j\n",
    "    return the_list"
   ]
  },
  {
   "cell_type": "markdown",
   "metadata": {},
   "source": [
    "We have provided you with ploting code below. If your implementation is correct, the result that you plotted will be the same as the figure below.\n",
    "\n",
    "![](Figures/Newton.png)\n",
    "\n"
   ]
  },
  {
   "cell_type": "code",
   "execution_count": 23,
   "metadata": {},
   "outputs": [
    {
     "name": "stderr",
     "output_type": "stream",
     "text": [
      "C:\\Users\\dell\\anaconda3\\envs\\ece449_hws\\lib\\site-packages\\ipykernel_launcher.py:9: RuntimeWarning: invalid value encountered in true_divide\n",
      "  if __name__ == '__main__':\n"
     ]
    },
    {
     "data": {
      "text/plain": [
       "<matplotlib.legend.Legend at 0x1bb39be2ec8>"
      ]
     },
     "execution_count": 23,
     "metadata": {},
     "output_type": "execute_result"
    },
    {
     "data": {
      "image/png": "[encoded data removed]",
      "text/plain": [
       "<Figure size 432x288 with 1 Axes>"
      ]
     },
     "metadata": {
      "needs_background": "light"
     },
     "output_type": "display_data"
    }
   ],
   "source": [
    "all_thetas = NewtonMethod(Xs,ys)\n",
    "ax = plt.axes()\n",
    "\n",
    "df_X.query('label == -1').plot.scatter(x=0, y=1, ax=ax, color='blue')\n",
    "df_X.query('label == 1').plot.scatter(x=0, y=1, ax=ax, color='red')\n",
    "\n",
    "_xs = np.array([np.min(Xs[:,1]), np.max(Xs[:,1])])\n",
    "for k, theta in enumerate(all_thetas):\n",
    "    _ys = (theta[0] + theta[1] * _xs) / (- theta[2])\n",
    "    plt.plot(_xs, _ys, label='iter {0}'.format(k + 1), lw=0.5)\n",
    "plt.legend(bbox_to_anchor=(1.04,1), loc=\"upper left\")"
   ]
  },
  {
   "cell_type": "code",
   "execution_count": null,
   "metadata": {},
   "outputs": [],
   "source": []
  },
  {
   "cell_type": "code",
   "execution_count": null,
   "metadata": {},
   "outputs": [],
   "source": []
  }
 ],
 "metadata": {
  "anaconda-cloud": {},
  "kernelspec": {
   "display_name": "Python [conda env:ece449_hws] *",
   "language": "python",
   "name": "conda-env-ece449_hws-py"
  },
  "language_info": {
   "codemirror_mode": {
    "name": "ipython",
    "version": 3
   },
   "file_extension": ".py",
   "mimetype": "text/x-python",
   "name": "python",
   "nbconvert_exporter": "python",
   "pygments_lexer": "ipython3",
   "version": "3.7.9"
  }
 },
 "nbformat": 4,
 "nbformat_minor": 1
}
